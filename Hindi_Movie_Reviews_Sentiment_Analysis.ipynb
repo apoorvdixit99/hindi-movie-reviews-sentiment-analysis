{
  "nbformat": 4,
  "nbformat_minor": 0,
  "metadata": {
    "colab": {
      "name": "Hindi Movie Reviews Sentiment Analysis.ipynb",
      "provenance": [],
      "collapsed_sections": [
        "tnICc-ohTupG",
        "98mfc5dPA48T",
        "AursLQAFA9ij",
        "OaqpEp75BPxQ",
        "Eq7cZ0TZE5Tw"
      ]
    },
    "kernelspec": {
      "name": "python3",
      "display_name": "Python 3"
    },
    "accelerator": "GPU"
  },
  "cells": [
    {
      "cell_type": "markdown",
      "metadata": {
        "id": "tnICc-ohTupG"
      },
      "source": [
        "#Setting up prerequisites"
      ]
    },
    {
      "cell_type": "code",
      "metadata": {
        "id": "c40Na884dqR_"
      },
      "source": [
        "%%capture\n",
        "!pip install -q kaggle\n",
        "!pip install -q kaggle-cli\n",
        "f = open(\"kaggle.json\",\"w+\")\n",
        "f.write('{\"username\":\"apoorvdixit99\",\"key\":\"d1e1d14c6cd0a99107319fc1ed845221\"}')\n",
        "f.close()\n",
        "!mkdir -p ~/.kaggle\n",
        "!cp kaggle.json ~/.kaggle/\n",
        "!chmod 600 ~/.kaggle/kaggle.json\n",
        "!kaggle datasets download -d disisbig/hindi-movie-reviews-dataset\n",
        "!unzip hindi-movie-reviews-dataset.zip\n",
        "\n",
        "!pip install stanza\n",
        "!pip install cltk\n",
        "!pip install pycaret"
      ],
      "execution_count": null,
      "outputs": []
    },
    {
      "cell_type": "code",
      "metadata": {
        "id": "sRL9aX_w065I",
        "outputId": "35c5afd7-f4d3-4a44-88e7-5202c049cec5",
        "colab": {
          "base_uri": "https://localhost:8080/"
        }
      },
      "source": [
        "#Install Kaggle and Kaggle Command Line Interface Python Library\n",
        "!pip install -q kaggle\n",
        "!pip install -q kaggle-cli\n",
        "\n",
        "#Create a json file containing kaggle API token\n",
        "f = open(\"kaggle.json\",\"w+\")\n",
        "f.write('{\"username\":\"apoorvdixit99\",\"key\":\"d1e1d14c6cd0a99107319fc1ed845221\"}')\n",
        "f.close()\n",
        "\n",
        "#Create a hidden folder .kaggle\n",
        "!mkdir -p ~/.kaggle\n",
        "\n",
        "#Copy kaggle.json to .kaggle\n",
        "!cp kaggle.json ~/.kaggle/\n",
        "\n",
        "#Set necessary permissions for kaggle.json\n",
        "!chmod 600 ~/.kaggle/kaggle.json\n",
        "\n",
        "#Kaggle API Command\n",
        "!kaggle datasets download -d disisbig/hindi-movie-reviews-dataset\n",
        "\n",
        "#Unzip the file downloaded\n",
        "!unzip hindi-movie-reviews-dataset.zip"
      ],
      "execution_count": null,
      "outputs": [
        {
          "output_type": "stream",
          "text": [
            "Downloading hindi-movie-reviews-dataset.zip to /content\n",
            "\r  0% 0.00/1.76M [00:00<?, ?B/s]\n",
            "\r100% 1.76M/1.76M [00:00<00:00, 59.1MB/s]\n",
            "Archive:  hindi-movie-reviews-dataset.zip\n",
            "  inflating: train.csv               \n",
            "  inflating: valid.csv               \n"
          ],
          "name": "stdout"
        }
      ]
    },
    {
      "cell_type": "code",
      "metadata": {
        "id": "1m0-vq66myXE"
      },
      "source": [
        "%%capture\n",
        "import stanza\n",
        "import pandas as pd\n",
        "import re\n",
        "from cltk.stop.classical_hindi.stops import STOPS_LIST as stop_words_hindi\n",
        "\n",
        "from sklearn.feature_extraction.text import TfidfVectorizer\n",
        "\n",
        "from sklearn.svm import LinearSVC\n",
        "from sklearn.metrics import confusion_matrix, accuracy_score, f1_score\n",
        "\n",
        "\n",
        "stanza.download('hi')\n",
        "hi_stanza = stanza.Pipeline('hi', processors='tokenize,lemma', verbose=True, use_gpu=True)"
      ],
      "execution_count": null,
      "outputs": []
    },
    {
      "cell_type": "code",
      "metadata": {
        "id": "ZU3aYZnqeB_a"
      },
      "source": [
        "df = pd.read_csv('train.csv')\n",
        "df2 = pd.read_csv('valid.csv')\n",
        "X_train = df['text']\n",
        "Y_train = df['experience']\n",
        "X_test = df2['text']\n",
        "Y_test = df2['experience']"
      ],
      "execution_count": null,
      "outputs": []
    },
    {
      "cell_type": "markdown",
      "metadata": {
        "id": "98mfc5dPA48T"
      },
      "source": [
        "#Text Preprocessing"
      ]
    },
    {
      "cell_type": "code",
      "metadata": {
        "id": "TJiAvG-Sm5uw"
      },
      "source": [
        "def clean_review(hindi_text):\n",
        "  \n",
        "  hindi_text = re.sub('[-।,:?;!\\(\\)]','',hindi_text)\n",
        "  hindi_text = \" \".join(hindi_text.split())\n",
        "\n",
        "  hi_doc = hi_stanza(hindi_text)\n",
        "\n",
        "  text_lemma = []\n",
        "  for sentence in hi_doc.sentences:\n",
        "      for word in sentence.words:\n",
        "          text_lemma.append(word.lemma)\n",
        "  text_lemma = \" \".join(word for word in text_lemma)\n",
        "  return text_lemma"
      ],
      "execution_count": null,
      "outputs": []
    },
    {
      "cell_type": "code",
      "metadata": {
        "id": "dcwile-Nm-Lf"
      },
      "source": [
        "#Without progress bar\n",
        "X_train_cleaned = X_train.map(lambda x: clean_review(x))\n",
        "X_test_cleaned = X_test.map(lambda x: clean_review(x))"
      ],
      "execution_count": null,
      "outputs": []
    },
    {
      "cell_type": "code",
      "metadata": {
        "id": "PhxMxKwNTfz3",
        "outputId": "1808498b-e164-4776-ff0e-a3cbd9797b95",
        "colab": {
          "base_uri": "https://localhost:8080/"
        }
      },
      "source": [
        "#With Progress bar\n",
        "from IPython.display import HTML, display\n",
        "\n",
        "def progress(value, max=898):\n",
        "    return HTML(\"\"\"\n",
        "        <progress\n",
        "            value='{value}'\n",
        "            max='{max}',\n",
        "            style='width: 100%'\n",
        "        >\n",
        "            {value}\n",
        "        </progress>\n",
        "    \"\"\".format(value=value, max=max))\n",
        "\n",
        "index = 0\n",
        "out = display(progress(0, 898), display_id=True)\n",
        "\n",
        "def clean_review_display(hindi_text):\n",
        "\n",
        "  global index\n",
        "  global out\n",
        "  \n",
        "  hindi_text = re.sub('[-।,:?;!\\(\\)]','',hindi_text)\n",
        "  hindi_text = \" \".join(hindi_text.split())\n",
        "\n",
        "  hi_doc = hi_stanza(hindi_text)\n",
        "\n",
        "  text_lemma = []\n",
        "  for sentence in hi_doc.sentences:\n",
        "      for word in sentence.words:\n",
        "          text_lemma.append(word.lemma)\n",
        "  text_lemma = \" \".join(word for word in text_lemma)\n",
        "\n",
        "  index=index+1\n",
        "  out.update(progress(index, 898))\n",
        "\n",
        "  return text_lemma\n",
        "\n",
        "X_train_cleaned = X_train.map(lambda x: clean_review_display(x))\n",
        "X_test_cleaned = X_test.map(lambda x: clean_review_display(x))"
      ],
      "execution_count": null,
      "outputs": [
        {
          "output_type": "display_data",
          "data": {
            "text/html": [
              "\n",
              "        <progress\n",
              "            value='898'\n",
              "            max='898',\n",
              "            style='width: 100%'\n",
              "        >\n",
              "            898\n",
              "        </progress>\n",
              "    "
            ],
            "text/plain": [
              "<IPython.core.display.HTML object>"
            ]
          },
          "metadata": {
            "tags": []
          }
        }
      ]
    },
    {
      "cell_type": "markdown",
      "metadata": {
        "id": "AursLQAFA9ij"
      },
      "source": [
        "#TfIdf Vectorizer"
      ]
    },
    {
      "cell_type": "code",
      "metadata": {
        "id": "oo9H9IbImNRG",
        "outputId": "4085e4aa-f79d-4a6f-eb76-10ef2c2a5d5d",
        "colab": {
          "base_uri": "https://localhost:8080/"
        }
      },
      "source": [
        "vectorizer = TfidfVectorizer(stop_words=stop_words_hindi)\n",
        "X_train_Vectorized = vectorizer.fit_transform(X_train_cleaned)\n",
        "X_test_Vectorized = vectorizer.transform(X_test_cleaned)\n",
        "\n",
        "model = LinearSVC()\n",
        "model.fit(X_train_Vectorized,Y_train)\n",
        "\n",
        "Y_pred = model.predict(X_test_Vectorized)\n",
        "\n",
        "conf_mat = confusion_matrix(Y_test,Y_pred)\n",
        "\n",
        "print(\"Confusion Matrix : \\n\",conf_mat,\"\\n\")\n",
        "print(\"Accuracy Score : \",accuracy_score(Y_test,Y_pred))\n",
        "print(\"F1 Score : \",f1_score(Y_test,Y_pred,average='weighted'))"
      ],
      "execution_count": null,
      "outputs": [
        {
          "output_type": "stream",
          "text": [
            "/usr/local/lib/python3.6/dist-packages/sklearn/feature_extraction/text.py:386: UserWarning: Your stop_words may be inconsistent with your preprocessing. Tokenizing the stop words generated tokens ['अपन', 'आद', 'इतन', 'इतय', 'उनक', 'एव', 'ऐस', 'कभ', 'कह', 'जह', 'नह', 'यद', 'रह', 'सक', 'सकत'] not in stop_words.\n",
            "  'stop_words.' % sorted(inconsistent))\n"
          ],
          "name": "stderr"
        },
        {
          "output_type": "stream",
          "text": [
            "Confusion Matrix : \n",
            " [[27 14 12]\n",
            " [20 27 18]\n",
            " [13 12 37]] \n",
            "\n",
            "Accuracy Score :  0.5055555555555555\n",
            "F1 Score :  0.5035504878502846\n"
          ],
          "name": "stdout"
        }
      ]
    },
    {
      "cell_type": "markdown",
      "metadata": {
        "id": "OaqpEp75BPxQ"
      },
      "source": [
        "#Get Dense Dataset"
      ]
    },
    {
      "cell_type": "code",
      "metadata": {
        "id": "uz4S9HGjXc0-"
      },
      "source": [
        "#Convert Sparse to Dense\n",
        "X_train_Vectorized_Dense = X_train_Vectorized.todense()\n",
        "X_test_Vectorized_Dense = X_test_Vectorized.todense()"
      ],
      "execution_count": null,
      "outputs": []
    },
    {
      "cell_type": "markdown",
      "metadata": {
        "id": "Eq7cZ0TZE5Tw"
      },
      "source": [
        "#Classification Algorithm Baselines (Sparse and Dense) (Dataframe)\n",
        "*  Data Structure to hold Parameters of Function Object?"
      ]
    },
    {
      "cell_type": "code",
      "metadata": {
        "id": "_kG2T7kIJ5mY"
      },
      "source": [
        "#Import Statements (Without Parameters)\n",
        "from sklearn.svm import LinearSVC\n",
        "from sklearn.ensemble import ExtraTreesClassifier,GradientBoostingClassifier,RandomForestClassifier,AdaBoostClassifier\n",
        "from xgboost import XGBClassifier\n",
        "from lightgbm import LGBMClassifier\n",
        "from sklearn.discriminant_analysis import LinearDiscriminantAnalysis\n",
        "from sklearn.naive_bayes import GaussianNB\n",
        "from sklearn.neural_network import MLPClassifier\n",
        "from sklearn.linear_model import LogisticRegression,RidgeClassifier\n",
        "from sklearn.discriminant_analysis import QuadraticDiscriminantAnalysis\n",
        "from sklearn.tree import DecisionTreeClassifier"
      ],
      "execution_count": null,
      "outputs": []
    },
    {
      "cell_type": "code",
      "metadata": {
        "id": "Ptl4Qc12Drh-"
      },
      "source": [
        "#List of Algorithms without Parameters (Dense and Sparse Separate)\n",
        "\n",
        "algoListDense = [ LinearSVC, ExtraTreesClassifier, GradientBoostingClassifier, \n",
        "            XGBClassifier, LGBMClassifier, LinearDiscriminantAnalysis, \n",
        "            LogisticRegression, GaussianNB, DecisionTreeClassifier, \n",
        "            MLPClassifier, RidgeClassifier, RandomForestClassifier, \n",
        "            QuadraticDiscriminantAnalysis, AdaBoostClassifier ]\n",
        "\n",
        "algoListSparse = [ LinearSVC, ExtraTreesClassifier, GradientBoostingClassifier, \n",
        "            XGBClassifier, LGBMClassifier, LogisticRegression, DecisionTreeClassifier, \n",
        "            MLPClassifier, RidgeClassifier, RandomForestClassifier, AdaBoostClassifier ]"
      ],
      "execution_count": null,
      "outputs": []
    },
    {
      "cell_type": "code",
      "metadata": {
        "id": "uUqQyqhFK-p1"
      },
      "source": [
        "#Dense\n",
        "def ClassificationAlgorithm(func, **kwargs):\n",
        "\n",
        "  def innerFunction():\n",
        "    model = func(**kwargs)\n",
        "    model.fit(X_train_Vectorized_Dense, Y_train)\n",
        "\n",
        "    Y_pred = model.predict(X_test_Vectorized_Dense)\n",
        "    \n",
        "    matr = confusion_matrix(Y_test,Y_pred)\n",
        "    accu = accuracy_score(Y_test,Y_pred)\n",
        "    f1 = f1_score(Y_test,Y_pred,average='weighted')\n",
        "    return matr, accu, f1\n",
        "\n",
        "  return innerFunction()\n",
        "\n",
        "#Sparse\n",
        "def ClassificationAlgorithmSparse(func, **kwargs):\n",
        "\n",
        "  def innerFunction():\n",
        "    model = func(**kwargs)\n",
        "    model.fit(X_train_Vectorized, Y_train)\n",
        "\n",
        "    Y_pred = model.predict(X_test_Vectorized)\n",
        "    \n",
        "    matr = confusion_matrix(Y_test,Y_pred)\n",
        "    accu = accuracy_score(Y_test,Y_pred)\n",
        "    f1 = f1_score(Y_test,Y_pred,average='weighted')\n",
        "    return matr, accu, f1\n",
        "\n",
        "  return innerFunction()"
      ],
      "execution_count": null,
      "outputs": []
    },
    {
      "cell_type": "code",
      "metadata": {
        "id": "IXRHuhEVE36l"
      },
      "source": [
        "#DataFrame to hold Result\n",
        "df_result = pd.DataFrame(columns=['Algorithm','Dataset','Accuracy','F1 Score'])\n",
        "\n",
        "#Get Metrics for Dense Algorithms\n",
        "for algo in algoListDense:\n",
        "  _, accu, f1 = ClassificationAlgorithm(algo)\n",
        "  df_result = df_result.append({\n",
        "      'Algorithm' : algo.__name__,\n",
        "      'Dataset' : 'dense',\n",
        "      'Accuracy' : accu,\n",
        "      'F1 Score' : f1\n",
        "      }, ignore_index=True)\n",
        "\n",
        "#Get Metrics for Sparse Algorithms\n",
        "for algo in algoListSparse:\n",
        "  _, accu, f1 = ClassificationAlgorithmSparse(algo)\n",
        "  df_result = df_result.append({\n",
        "      'Algorithm' : algo.__name__,\n",
        "      'Dataset' : 'sparse',\n",
        "      'Accuracy' : accu,\n",
        "      'F1 Score' : f1\n",
        "      }, ignore_index=True)"
      ],
      "execution_count": null,
      "outputs": []
    },
    {
      "cell_type": "code",
      "metadata": {
        "id": "OOLYQjpyUz4O"
      },
      "source": [
        "#Get Metrics for Algorithms with Parameters (Sparse and Dense)\n",
        "#Hardcoded as of now\n",
        "\n",
        "from sklearn.neighbors import KNeighborsClassifier\n",
        "_, accu, f1 = ClassificationAlgorithm(KNeighborsClassifier,n_neighbors=1)\n",
        "df_result = df_result.append({\n",
        "    'Algorithm' : 'KNeighborsClassifier',\n",
        "    'Dataset' : 'dense',\n",
        "    'Accuracy' : accu,\n",
        "    'F1 Score' : f1\n",
        "    }, ignore_index=True)\n",
        "_, accu, f1 = ClassificationAlgorithmSparse(KNeighborsClassifier,n_neighbors=1)\n",
        "df_result = df_result.append({\n",
        "    'Algorithm' : 'KNeighborsClassifier',\n",
        "    'Dataset' : 'sparse',\n",
        "    'Accuracy' : accu,\n",
        "    'F1 Score' : f1\n",
        "    }, ignore_index=True)\n",
        "\n",
        "from sklearn.svm import SVC\n",
        "_, accu, f1 = ClassificationAlgorithm(SVC,kernel='rbf')\n",
        "df_result = df_result.append({\n",
        "    'Algorithm' : 'SVC-rbf',\n",
        "    'Dataset' : 'dense',\n",
        "    'Accuracy' : accu,\n",
        "    'F1 Score' : f1\n",
        "    }, ignore_index=True)\n",
        "_, accu, f1 = ClassificationAlgorithmSparse(SVC,kernel='rbf')\n",
        "df_result = df_result.append({\n",
        "    'Algorithm' : 'SVC-rbf',\n",
        "    'Dataset' : 'sparse',\n",
        "    'Accuracy' : accu,\n",
        "    'F1 Score' : f1\n",
        "    }, ignore_index=True)\n",
        "_, accu, f1 = ClassificationAlgorithm(SVC,kernel='linear')\n",
        "df_result = df_result.append({\n",
        "    'Algorithm' : 'SVC-linear',\n",
        "    'Dataset' : 'dense',\n",
        "    'Accuracy' : accu,\n",
        "    'F1 Score' : f1\n",
        "    }, ignore_index=True)\n",
        "_, accu, f1 = ClassificationAlgorithmSparse(SVC,kernel='linear')\n",
        "df_result = df_result.append({\n",
        "    'Algorithm' : 'SVC-linear',\n",
        "    'Dataset' : 'sparse',\n",
        "    'Accuracy' : accu,\n",
        "    'F1 Score' : f1\n",
        "    }, ignore_index=True)\n",
        "_, accu, f1 = ClassificationAlgorithm(SVC,kernel='sigmoid')\n",
        "df_result = df_result.append({\n",
        "    'Algorithm' : 'SVC-sigmoid',\n",
        "    'Dataset' : 'dense',\n",
        "    'Accuracy' : accu,\n",
        "    'F1 Score' : f1\n",
        "    }, ignore_index=True)\n",
        "_, accu, f1 = ClassificationAlgorithmSparse(SVC,kernel='sigmoid')\n",
        "df_result = df_result.append({\n",
        "    'Algorithm' : 'SVC-signmoid',\n",
        "    'Dataset' : 'sparse',\n",
        "    'Accuracy' : accu,\n",
        "    'F1 Score' : f1\n",
        "    }, ignore_index=True)\n",
        "\n",
        "from sklearn.gaussian_process import GaussianProcessClassifier\n",
        "from sklearn.gaussian_process.kernels import RBF\n",
        "kernel = 1.0 * RBF(1.0)\n",
        "_, accu, f1 = ClassificationAlgorithm(GaussianProcessClassifier,kernel=kernel)\n",
        "df_result = df_result.append({\n",
        "    'Algorithm' : 'GaussianProcessClassifier-rbf',\n",
        "    'Dataset' : 'dense',\n",
        "    'Accuracy' : accu,\n",
        "    'F1 Score' : f1\n",
        "    }, ignore_index=True)"
      ],
      "execution_count": null,
      "outputs": []
    },
    {
      "cell_type": "code",
      "metadata": {
        "id": "Tk7lLJtWby1Y"
      },
      "source": [
        "#Sort by Accuracy\n",
        "df_result.sort_values(by=['Accuracy'], ascending=False, inplace=True)"
      ],
      "execution_count": null,
      "outputs": []
    },
    {
      "cell_type": "code",
      "metadata": {
        "id": "Uspjbc-xQ6wy",
        "outputId": "7b2c7bcb-9934-4efe-d755-ad58551d4932",
        "colab": {
          "base_uri": "https://localhost:8080/",
          "height": 1000
        }
      },
      "source": [
        "df_result"
      ],
      "execution_count": null,
      "outputs": [
        {
          "output_type": "execute_result",
          "data": {
            "text/html": [
              "<div>\n",
              "<style scoped>\n",
              "    .dataframe tbody tr th:only-of-type {\n",
              "        vertical-align: middle;\n",
              "    }\n",
              "\n",
              "    .dataframe tbody tr th {\n",
              "        vertical-align: top;\n",
              "    }\n",
              "\n",
              "    .dataframe thead th {\n",
              "        text-align: right;\n",
              "    }\n",
              "</style>\n",
              "<table border=\"1\" class=\"dataframe\">\n",
              "  <thead>\n",
              "    <tr style=\"text-align: right;\">\n",
              "      <th></th>\n",
              "      <th>Algorithm</th>\n",
              "      <th>Dataset</th>\n",
              "      <th>Accuracy</th>\n",
              "      <th>F1 Score</th>\n",
              "    </tr>\n",
              "  </thead>\n",
              "  <tbody>\n",
              "    <tr>\n",
              "      <th>0</th>\n",
              "      <td>ExtraTreesClassifier</td>\n",
              "      <td>sparse</td>\n",
              "      <td>0.572222</td>\n",
              "      <td>0.552434</td>\n",
              "    </tr>\n",
              "    <tr>\n",
              "      <th>1</th>\n",
              "      <td>XGBClassifier</td>\n",
              "      <td>dense</td>\n",
              "      <td>0.566667</td>\n",
              "      <td>0.561875</td>\n",
              "    </tr>\n",
              "    <tr>\n",
              "      <th>2</th>\n",
              "      <td>GradientBoostingClassifier</td>\n",
              "      <td>dense</td>\n",
              "      <td>0.555556</td>\n",
              "      <td>0.549366</td>\n",
              "    </tr>\n",
              "    <tr>\n",
              "      <th>3</th>\n",
              "      <td>GradientBoostingClassifier</td>\n",
              "      <td>sparse</td>\n",
              "      <td>0.550000</td>\n",
              "      <td>0.543770</td>\n",
              "    </tr>\n",
              "    <tr>\n",
              "      <th>32</th>\n",
              "      <td>SVC-signmoid</td>\n",
              "      <td>sparse</td>\n",
              "      <td>0.550000</td>\n",
              "      <td>0.544508</td>\n",
              "    </tr>\n",
              "    <tr>\n",
              "      <th>31</th>\n",
              "      <td>SVC-sigmoid</td>\n",
              "      <td>dense</td>\n",
              "      <td>0.550000</td>\n",
              "      <td>0.544508</td>\n",
              "    </tr>\n",
              "    <tr>\n",
              "      <th>30</th>\n",
              "      <td>SVC-linear</td>\n",
              "      <td>sparse</td>\n",
              "      <td>0.550000</td>\n",
              "      <td>0.544317</td>\n",
              "    </tr>\n",
              "    <tr>\n",
              "      <th>29</th>\n",
              "      <td>SVC-linear</td>\n",
              "      <td>dense</td>\n",
              "      <td>0.550000</td>\n",
              "      <td>0.544317</td>\n",
              "    </tr>\n",
              "    <tr>\n",
              "      <th>4</th>\n",
              "      <td>LogisticRegression</td>\n",
              "      <td>dense</td>\n",
              "      <td>0.544444</td>\n",
              "      <td>0.536903</td>\n",
              "    </tr>\n",
              "    <tr>\n",
              "      <th>5</th>\n",
              "      <td>ExtraTreesClassifier</td>\n",
              "      <td>dense</td>\n",
              "      <td>0.544444</td>\n",
              "      <td>0.514958</td>\n",
              "    </tr>\n",
              "    <tr>\n",
              "      <th>6</th>\n",
              "      <td>LogisticRegression</td>\n",
              "      <td>sparse</td>\n",
              "      <td>0.544444</td>\n",
              "      <td>0.536903</td>\n",
              "    </tr>\n",
              "    <tr>\n",
              "      <th>7</th>\n",
              "      <td>XGBClassifier</td>\n",
              "      <td>sparse</td>\n",
              "      <td>0.538889</td>\n",
              "      <td>0.536701</td>\n",
              "    </tr>\n",
              "    <tr>\n",
              "      <th>8</th>\n",
              "      <td>LGBMClassifier</td>\n",
              "      <td>dense</td>\n",
              "      <td>0.538889</td>\n",
              "      <td>0.528968</td>\n",
              "    </tr>\n",
              "    <tr>\n",
              "      <th>9</th>\n",
              "      <td>LGBMClassifier</td>\n",
              "      <td>sparse</td>\n",
              "      <td>0.538889</td>\n",
              "      <td>0.528968</td>\n",
              "    </tr>\n",
              "    <tr>\n",
              "      <th>33</th>\n",
              "      <td>GaussianProcessClassifier-rbf</td>\n",
              "      <td>dense</td>\n",
              "      <td>0.522222</td>\n",
              "      <td>0.512935</td>\n",
              "    </tr>\n",
              "    <tr>\n",
              "      <th>10</th>\n",
              "      <td>RandomForestClassifier</td>\n",
              "      <td>sparse</td>\n",
              "      <td>0.522222</td>\n",
              "      <td>0.506374</td>\n",
              "    </tr>\n",
              "    <tr>\n",
              "      <th>11</th>\n",
              "      <td>RidgeClassifier</td>\n",
              "      <td>sparse</td>\n",
              "      <td>0.516667</td>\n",
              "      <td>0.513535</td>\n",
              "    </tr>\n",
              "    <tr>\n",
              "      <th>12</th>\n",
              "      <td>RidgeClassifier</td>\n",
              "      <td>dense</td>\n",
              "      <td>0.516667</td>\n",
              "      <td>0.513535</td>\n",
              "    </tr>\n",
              "    <tr>\n",
              "      <th>13</th>\n",
              "      <td>RandomForestClassifier</td>\n",
              "      <td>dense</td>\n",
              "      <td>0.516667</td>\n",
              "      <td>0.498765</td>\n",
              "    </tr>\n",
              "    <tr>\n",
              "      <th>28</th>\n",
              "      <td>SVC-rbf</td>\n",
              "      <td>sparse</td>\n",
              "      <td>0.516667</td>\n",
              "      <td>0.501687</td>\n",
              "    </tr>\n",
              "    <tr>\n",
              "      <th>27</th>\n",
              "      <td>SVC-rbf</td>\n",
              "      <td>dense</td>\n",
              "      <td>0.516667</td>\n",
              "      <td>0.501687</td>\n",
              "    </tr>\n",
              "    <tr>\n",
              "      <th>14</th>\n",
              "      <td>MLPClassifier</td>\n",
              "      <td>sparse</td>\n",
              "      <td>0.511111</td>\n",
              "      <td>0.510493</td>\n",
              "    </tr>\n",
              "    <tr>\n",
              "      <th>15</th>\n",
              "      <td>LinearSVC</td>\n",
              "      <td>dense</td>\n",
              "      <td>0.505556</td>\n",
              "      <td>0.503550</td>\n",
              "    </tr>\n",
              "    <tr>\n",
              "      <th>16</th>\n",
              "      <td>LinearSVC</td>\n",
              "      <td>sparse</td>\n",
              "      <td>0.505556</td>\n",
              "      <td>0.503550</td>\n",
              "    </tr>\n",
              "    <tr>\n",
              "      <th>17</th>\n",
              "      <td>MLPClassifier</td>\n",
              "      <td>dense</td>\n",
              "      <td>0.505556</td>\n",
              "      <td>0.505117</td>\n",
              "    </tr>\n",
              "    <tr>\n",
              "      <th>19</th>\n",
              "      <td>AdaBoostClassifier</td>\n",
              "      <td>dense</td>\n",
              "      <td>0.477778</td>\n",
              "      <td>0.475082</td>\n",
              "    </tr>\n",
              "    <tr>\n",
              "      <th>18</th>\n",
              "      <td>AdaBoostClassifier</td>\n",
              "      <td>sparse</td>\n",
              "      <td>0.477778</td>\n",
              "      <td>0.475082</td>\n",
              "    </tr>\n",
              "    <tr>\n",
              "      <th>20</th>\n",
              "      <td>DecisionTreeClassifier</td>\n",
              "      <td>sparse</td>\n",
              "      <td>0.472222</td>\n",
              "      <td>0.471268</td>\n",
              "    </tr>\n",
              "    <tr>\n",
              "      <th>22</th>\n",
              "      <td>LinearDiscriminantAnalysis</td>\n",
              "      <td>dense</td>\n",
              "      <td>0.416667</td>\n",
              "      <td>0.407282</td>\n",
              "    </tr>\n",
              "    <tr>\n",
              "      <th>21</th>\n",
              "      <td>DecisionTreeClassifier</td>\n",
              "      <td>dense</td>\n",
              "      <td>0.416667</td>\n",
              "      <td>0.415250</td>\n",
              "    </tr>\n",
              "    <tr>\n",
              "      <th>25</th>\n",
              "      <td>KNeighborsClassifier</td>\n",
              "      <td>dense</td>\n",
              "      <td>0.400000</td>\n",
              "      <td>0.333314</td>\n",
              "    </tr>\n",
              "    <tr>\n",
              "      <th>26</th>\n",
              "      <td>KNeighborsClassifier</td>\n",
              "      <td>sparse</td>\n",
              "      <td>0.400000</td>\n",
              "      <td>0.333314</td>\n",
              "    </tr>\n",
              "    <tr>\n",
              "      <th>23</th>\n",
              "      <td>GaussianNB</td>\n",
              "      <td>dense</td>\n",
              "      <td>0.388889</td>\n",
              "      <td>0.375242</td>\n",
              "    </tr>\n",
              "    <tr>\n",
              "      <th>24</th>\n",
              "      <td>QuadraticDiscriminantAnalysis</td>\n",
              "      <td>dense</td>\n",
              "      <td>0.338889</td>\n",
              "      <td>0.313830</td>\n",
              "    </tr>\n",
              "  </tbody>\n",
              "</table>\n",
              "</div>"
            ],
            "text/plain": [
              "                        Algorithm Dataset  Accuracy  F1 Score\n",
              "0            ExtraTreesClassifier  sparse  0.572222  0.552434\n",
              "1                   XGBClassifier   dense  0.566667  0.561875\n",
              "2      GradientBoostingClassifier   dense  0.555556  0.549366\n",
              "3      GradientBoostingClassifier  sparse  0.550000  0.543770\n",
              "32                   SVC-signmoid  sparse  0.550000  0.544508\n",
              "31                    SVC-sigmoid   dense  0.550000  0.544508\n",
              "30                     SVC-linear  sparse  0.550000  0.544317\n",
              "29                     SVC-linear   dense  0.550000  0.544317\n",
              "4              LogisticRegression   dense  0.544444  0.536903\n",
              "5            ExtraTreesClassifier   dense  0.544444  0.514958\n",
              "6              LogisticRegression  sparse  0.544444  0.536903\n",
              "7                   XGBClassifier  sparse  0.538889  0.536701\n",
              "8                  LGBMClassifier   dense  0.538889  0.528968\n",
              "9                  LGBMClassifier  sparse  0.538889  0.528968\n",
              "33  GaussianProcessClassifier-rbf   dense  0.522222  0.512935\n",
              "10         RandomForestClassifier  sparse  0.522222  0.506374\n",
              "11                RidgeClassifier  sparse  0.516667  0.513535\n",
              "12                RidgeClassifier   dense  0.516667  0.513535\n",
              "13         RandomForestClassifier   dense  0.516667  0.498765\n",
              "28                        SVC-rbf  sparse  0.516667  0.501687\n",
              "27                        SVC-rbf   dense  0.516667  0.501687\n",
              "14                  MLPClassifier  sparse  0.511111  0.510493\n",
              "15                      LinearSVC   dense  0.505556  0.503550\n",
              "16                      LinearSVC  sparse  0.505556  0.503550\n",
              "17                  MLPClassifier   dense  0.505556  0.505117\n",
              "19             AdaBoostClassifier   dense  0.477778  0.475082\n",
              "18             AdaBoostClassifier  sparse  0.477778  0.475082\n",
              "20         DecisionTreeClassifier  sparse  0.472222  0.471268\n",
              "22     LinearDiscriminantAnalysis   dense  0.416667  0.407282\n",
              "21         DecisionTreeClassifier   dense  0.416667  0.415250\n",
              "25           KNeighborsClassifier   dense  0.400000  0.333314\n",
              "26           KNeighborsClassifier  sparse  0.400000  0.333314\n",
              "23                     GaussianNB   dense  0.388889  0.375242\n",
              "24  QuadraticDiscriminantAnalysis   dense  0.338889  0.313830"
            ]
          },
          "metadata": {
            "tags": []
          },
          "execution_count": 57
        }
      ]
    },
    {
      "cell_type": "markdown",
      "metadata": {
        "id": "yx1oztrbb9DA"
      },
      "source": [
        "#Classification Algorithm Baselines (Sparse and Dense) (Separate)"
      ]
    },
    {
      "cell_type": "code",
      "metadata": {
        "id": "oepiLaSmUSEt"
      },
      "source": [
        "def ClassificationAlgorithm(func, **kwargs):\n",
        "\n",
        "  def innerFunction():\n",
        "    model = func(**kwargs)\n",
        "    model.fit(X_train_Vectorized_Dense, Y_train)\n",
        "\n",
        "    Y_pred = model.predict(X_test_Vectorized_Dense)\n",
        "    \n",
        "    print(\"Confusion Matrix : \\n\",confusion_matrix(Y_test,Y_pred),\"\\n\")\n",
        "    print(\"Accuracy Score : \",accuracy_score(Y_test,Y_pred))\n",
        "    print(\"F1 Score : \",f1_score(Y_test,Y_pred,average='weighted'))\n",
        "\n",
        "  return innerFunction()"
      ],
      "execution_count": null,
      "outputs": []
    },
    {
      "cell_type": "code",
      "metadata": {
        "id": "e9pMrhWn9t69"
      },
      "source": [
        "def ClassificationAlgorithmSparse(func, **kwargs):\n",
        "\n",
        "  def innerFunction():\n",
        "    model = func(**kwargs)\n",
        "    model.fit(X_train_Vectorized, Y_train)\n",
        "\n",
        "    Y_pred = model.predict(X_test_Vectorized)\n",
        "    \n",
        "    print(\"Confusion Matrix : \\n\",confusion_matrix(Y_test,Y_pred),\"\\n\")\n",
        "    print(\"Accuracy Score : \",accuracy_score(Y_test,Y_pred))\n",
        "    print(\"F1 Score : \",f1_score(Y_test,Y_pred,average='weighted'))\n",
        "\n",
        "  return innerFunction()"
      ],
      "execution_count": null,
      "outputs": []
    },
    {
      "cell_type": "code",
      "metadata": {
        "id": "hO5DtGOvWHrB",
        "outputId": "1aab5d7a-59f1-4382-e276-42303098d26f",
        "colab": {
          "base_uri": "https://localhost:8080/",
          "height": 145
        }
      },
      "source": [
        "from sklearn.svm import LinearSVC\n",
        "ClassificationAlgorithm(LinearSVC)"
      ],
      "execution_count": null,
      "outputs": [
        {
          "output_type": "stream",
          "text": [
            "Confusion Matrix : \n",
            " [[27 14 12]\n",
            " [20 27 18]\n",
            " [13 12 37]] \n",
            "\n",
            "Accuracy Score :  0.5055555555555555\n",
            "F1 Score :  0.5035504878502846\n"
          ],
          "name": "stdout"
        }
      ]
    },
    {
      "cell_type": "code",
      "metadata": {
        "id": "cfuQPkYP90GH",
        "outputId": "372c1817-2221-4395-a0c3-431c12318925",
        "colab": {
          "base_uri": "https://localhost:8080/",
          "height": 145
        }
      },
      "source": [
        "ClassificationAlgorithmSparse(LinearSVC)"
      ],
      "execution_count": null,
      "outputs": [
        {
          "output_type": "stream",
          "text": [
            "Confusion Matrix : \n",
            " [[27 14 12]\n",
            " [20 27 18]\n",
            " [13 12 37]] \n",
            "\n",
            "Accuracy Score :  0.5055555555555555\n",
            "F1 Score :  0.5035504878502846\n"
          ],
          "name": "stdout"
        }
      ]
    },
    {
      "cell_type": "code",
      "metadata": {
        "id": "ngy_1QsSXd4i",
        "outputId": "aced10eb-e6e6-4997-e2aa-d96b17329bf0",
        "colab": {
          "base_uri": "https://localhost:8080/",
          "height": 145
        }
      },
      "source": [
        "from sklearn.ensemble import ExtraTreesClassifier\n",
        "ClassificationAlgorithm(ExtraTreesClassifier)"
      ],
      "execution_count": null,
      "outputs": [
        {
          "output_type": "stream",
          "text": [
            "Confusion Matrix : \n",
            " [[28 14 11]\n",
            " [19 20 26]\n",
            " [11  4 47]] \n",
            "\n",
            "Accuracy Score :  0.5277777777777778\n",
            "F1 Score :  0.5105514744695486\n"
          ],
          "name": "stdout"
        }
      ]
    },
    {
      "cell_type": "code",
      "metadata": {
        "id": "BIWbEcUH94Ap",
        "outputId": "1c2d180d-155e-48d4-aeee-c3e9f484cbb3",
        "colab": {
          "base_uri": "https://localhost:8080/",
          "height": 145
        }
      },
      "source": [
        "ClassificationAlgorithmSparse(ExtraTreesClassifier)"
      ],
      "execution_count": null,
      "outputs": [
        {
          "output_type": "stream",
          "text": [
            "Confusion Matrix : \n",
            " [[32 11 10]\n",
            " [13 21 31]\n",
            " [12  6 44]] \n",
            "\n",
            "Accuracy Score :  0.5388888888888889\n",
            "F1 Score :  0.524760357021106\n"
          ],
          "name": "stdout"
        }
      ]
    },
    {
      "cell_type": "code",
      "metadata": {
        "id": "HLGA-TK8asSZ",
        "outputId": "0e6c6882-589f-4cae-c958-ec5ff4a1b347",
        "colab": {
          "base_uri": "https://localhost:8080/",
          "height": 145
        }
      },
      "source": [
        "from sklearn.ensemble import GradientBoostingClassifier\n",
        "ClassificationAlgorithm(GradientBoostingClassifier)"
      ],
      "execution_count": null,
      "outputs": [
        {
          "output_type": "stream",
          "text": [
            "Confusion Matrix : \n",
            " [[30 12 11]\n",
            " [18 26 21]\n",
            " [13  3 46]] \n",
            "\n",
            "Accuracy Score :  0.5666666666666667\n",
            "F1 Score :  0.5584688135432923\n"
          ],
          "name": "stdout"
        }
      ]
    },
    {
      "cell_type": "code",
      "metadata": {
        "id": "FY2orznl9_tA",
        "outputId": "9e6eabb4-2c17-49fa-eea3-3b68a78f092e",
        "colab": {
          "base_uri": "https://localhost:8080/",
          "height": 145
        }
      },
      "source": [
        "ClassificationAlgorithmSparse(GradientBoostingClassifier)"
      ],
      "execution_count": null,
      "outputs": [
        {
          "output_type": "stream",
          "text": [
            "Confusion Matrix : \n",
            " [[30 12 11]\n",
            " [18 26 21]\n",
            " [14  4 44]] \n",
            "\n",
            "Accuracy Score :  0.5555555555555556\n",
            "F1 Score :  0.5487621713546135\n"
          ],
          "name": "stdout"
        }
      ]
    },
    {
      "cell_type": "code",
      "metadata": {
        "id": "yslErxV3bBXx",
        "outputId": "b69c189d-018d-4b5e-9a0b-0e8f7aad7b34",
        "colab": {
          "base_uri": "https://localhost:8080/",
          "height": 145
        }
      },
      "source": [
        "from xgboost import XGBClassifier\n",
        "ClassificationAlgorithm(XGBClassifier)"
      ],
      "execution_count": null,
      "outputs": [
        {
          "output_type": "stream",
          "text": [
            "Confusion Matrix : \n",
            " [[28 12 13]\n",
            " [18 29 18]\n",
            " [12  5 45]] \n",
            "\n",
            "Accuracy Score :  0.5666666666666667\n",
            "F1 Score :  0.5618749183966575\n"
          ],
          "name": "stdout"
        }
      ]
    },
    {
      "cell_type": "code",
      "metadata": {
        "id": "faPrqRVg-H3V",
        "outputId": "5ffc7384-98e4-462c-8b52-9fe87e26109f",
        "colab": {
          "base_uri": "https://localhost:8080/",
          "height": 145
        }
      },
      "source": [
        "ClassificationAlgorithmSparse(XGBClassifier)"
      ],
      "execution_count": null,
      "outputs": [
        {
          "output_type": "stream",
          "text": [
            "Confusion Matrix : \n",
            " [[29 12 12]\n",
            " [15 29 21]\n",
            " [15  8 39]] \n",
            "\n",
            "Accuracy Score :  0.5388888888888889\n",
            "F1 Score :  0.5367008680490614\n"
          ],
          "name": "stdout"
        }
      ]
    },
    {
      "cell_type": "code",
      "metadata": {
        "id": "bwchy87HbJZX",
        "outputId": "4088a659-9647-4575-e2cb-ed2d71f48de1",
        "colab": {
          "base_uri": "https://localhost:8080/",
          "height": 145
        }
      },
      "source": [
        "from lightgbm import LGBMClassifier\n",
        "ClassificationAlgorithm(LGBMClassifier)"
      ],
      "execution_count": null,
      "outputs": [
        {
          "output_type": "stream",
          "text": [
            "Confusion Matrix : \n",
            " [[33 11  9]\n",
            " [16 23 26]\n",
            " [15  6 41]] \n",
            "\n",
            "Accuracy Score :  0.5388888888888889\n",
            "F1 Score :  0.5289678115765072\n"
          ],
          "name": "stdout"
        }
      ]
    },
    {
      "cell_type": "code",
      "metadata": {
        "id": "3LWKA7AC-Mpp",
        "outputId": "0a4e2562-c38b-4226-ee62-9b052a03d2cc",
        "colab": {
          "base_uri": "https://localhost:8080/",
          "height": 145
        }
      },
      "source": [
        "ClassificationAlgorithmSparse(LGBMClassifier)"
      ],
      "execution_count": null,
      "outputs": [
        {
          "output_type": "stream",
          "text": [
            "Confusion Matrix : \n",
            " [[33 11  9]\n",
            " [16 23 26]\n",
            " [15  6 41]] \n",
            "\n",
            "Accuracy Score :  0.5388888888888889\n",
            "F1 Score :  0.5289678115765072\n"
          ],
          "name": "stdout"
        }
      ]
    },
    {
      "cell_type": "code",
      "metadata": {
        "id": "1PNdfIbmcboV",
        "outputId": "d8c6faf2-2805-4581-90c1-5f7ac742ccb3",
        "colab": {
          "base_uri": "https://localhost:8080/",
          "height": 145
        }
      },
      "source": [
        "from sklearn.discriminant_analysis import LinearDiscriminantAnalysis\n",
        "ClassificationAlgorithm(LinearDiscriminantAnalysis)\n",
        "#Not Possible for Sparse"
      ],
      "execution_count": null,
      "outputs": [
        {
          "output_type": "stream",
          "text": [
            "Confusion Matrix : \n",
            " [[21 21 11]\n",
            " [15 37 13]\n",
            " [16 29 17]] \n",
            "\n",
            "Accuracy Score :  0.4166666666666667\n",
            "F1 Score :  0.40728197921989434\n"
          ],
          "name": "stdout"
        }
      ]
    },
    {
      "cell_type": "code",
      "metadata": {
        "id": "ojoRVlLAcmKR",
        "outputId": "97d391c9-3e8b-411e-c7c2-ee4405390e6f",
        "colab": {
          "base_uri": "https://localhost:8080/",
          "height": 145
        }
      },
      "source": [
        "from sklearn.linear_model import LogisticRegression\n",
        "ClassificationAlgorithm(LogisticRegression)"
      ],
      "execution_count": null,
      "outputs": [
        {
          "output_type": "stream",
          "text": [
            "Confusion Matrix : \n",
            " [[26 14 13]\n",
            " [15 27 23]\n",
            " [12  5 45]] \n",
            "\n",
            "Accuracy Score :  0.5444444444444444\n",
            "F1 Score :  0.536903336903337\n"
          ],
          "name": "stdout"
        }
      ]
    },
    {
      "cell_type": "code",
      "metadata": {
        "id": "AdmFgq13-YZa",
        "outputId": "c5eceb96-cc0e-47de-f4b7-464427e213c2",
        "colab": {
          "base_uri": "https://localhost:8080/",
          "height": 145
        }
      },
      "source": [
        "ClassificationAlgorithmSparse(LogisticRegression)"
      ],
      "execution_count": null,
      "outputs": [
        {
          "output_type": "stream",
          "text": [
            "Confusion Matrix : \n",
            " [[26 14 13]\n",
            " [15 27 23]\n",
            " [12  5 45]] \n",
            "\n",
            "Accuracy Score :  0.5444444444444444\n",
            "F1 Score :  0.536903336903337\n"
          ],
          "name": "stdout"
        }
      ]
    },
    {
      "cell_type": "code",
      "metadata": {
        "id": "ugnb4Vumcxjz",
        "outputId": "b6637ada-1847-46a7-ee0d-bd2b70ce110f",
        "colab": {
          "base_uri": "https://localhost:8080/",
          "height": 145
        }
      },
      "source": [
        "from sklearn.neighbors import KNeighborsClassifier\n",
        "ClassificationAlgorithm(KNeighborsClassifier,n_neighbors=1)"
      ],
      "execution_count": null,
      "outputs": [
        {
          "output_type": "stream",
          "text": [
            "Confusion Matrix : \n",
            " [[ 6 40  7]\n",
            " [ 6 55  4]\n",
            " [ 4 47 11]] \n",
            "\n",
            "Accuracy Score :  0.4\n",
            "F1 Score :  0.3333141630243079\n"
          ],
          "name": "stdout"
        }
      ]
    },
    {
      "cell_type": "code",
      "metadata": {
        "id": "ASetRQtt-fOF",
        "outputId": "b9a8322d-bbdb-4754-aca0-c72ae28f5549",
        "colab": {
          "base_uri": "https://localhost:8080/",
          "height": 145
        }
      },
      "source": [
        "ClassificationAlgorithmSparse(KNeighborsClassifier,n_neighbors=1)"
      ],
      "execution_count": null,
      "outputs": [
        {
          "output_type": "stream",
          "text": [
            "Confusion Matrix : \n",
            " [[ 6 40  7]\n",
            " [ 6 55  4]\n",
            " [ 4 47 11]] \n",
            "\n",
            "Accuracy Score :  0.4\n",
            "F1 Score :  0.3333141630243079\n"
          ],
          "name": "stdout"
        }
      ]
    },
    {
      "cell_type": "code",
      "metadata": {
        "id": "U-AP0mIwdG-r",
        "outputId": "922fb956-b858-49ca-bdca-d6e85f9cffa1",
        "colab": {
          "base_uri": "https://localhost:8080/",
          "height": 145
        }
      },
      "source": [
        "from sklearn.naive_bayes import GaussianNB\n",
        "ClassificationAlgorithm(GaussianNB)\n",
        "#Not Possible for Sparse"
      ],
      "execution_count": null,
      "outputs": [
        {
          "output_type": "stream",
          "text": [
            "Confusion Matrix : \n",
            " [[16 16 21]\n",
            " [13 17 35]\n",
            " [13 12 37]] \n",
            "\n",
            "Accuracy Score :  0.3888888888888889\n",
            "F1 Score :  0.37524189261031365\n"
          ],
          "name": "stdout"
        }
      ]
    },
    {
      "cell_type": "code",
      "metadata": {
        "id": "0yQPq-0ZdVYY",
        "outputId": "e817bd8c-b016-4cb6-f10a-f94f1893e56c",
        "colab": {
          "base_uri": "https://localhost:8080/",
          "height": 145
        }
      },
      "source": [
        "from sklearn.tree import DecisionTreeClassifier\n",
        "ClassificationAlgorithm(DecisionTreeClassifier)"
      ],
      "execution_count": null,
      "outputs": [
        {
          "output_type": "stream",
          "text": [
            "Confusion Matrix : \n",
            " [[24 14 15]\n",
            " [18 23 24]\n",
            " [16 15 31]] \n",
            "\n",
            "Accuracy Score :  0.43333333333333335\n",
            "F1 Score :  0.43108714775381435\n"
          ],
          "name": "stdout"
        }
      ]
    },
    {
      "cell_type": "code",
      "metadata": {
        "id": "Kjb-k7FO-ruE",
        "outputId": "ef33823e-1cef-4c53-be80-560a90df0cc6",
        "colab": {
          "base_uri": "https://localhost:8080/",
          "height": 145
        }
      },
      "source": [
        "ClassificationAlgorithmSparse(DecisionTreeClassifier)"
      ],
      "execution_count": null,
      "outputs": [
        {
          "output_type": "stream",
          "text": [
            "Confusion Matrix : \n",
            " [[24 17 12]\n",
            " [15 26 24]\n",
            " [11 20 31]] \n",
            "\n",
            "Accuracy Score :  0.45\n",
            "F1 Score :  0.44946515965898165\n"
          ],
          "name": "stdout"
        }
      ]
    },
    {
      "cell_type": "code",
      "metadata": {
        "id": "ZEumZRWUd2aE",
        "outputId": "9ae999a4-3668-4c88-a6b8-441b2968bf1f",
        "colab": {
          "base_uri": "https://localhost:8080/",
          "height": 145
        }
      },
      "source": [
        "from sklearn.svm import SVC\n",
        "ClassificationAlgorithm(SVC,kernel='rbf')"
      ],
      "execution_count": null,
      "outputs": [
        {
          "output_type": "stream",
          "text": [
            "Confusion Matrix : \n",
            " [[24 13 16]\n",
            " [16 22 27]\n",
            " [11  4 47]] \n",
            "\n",
            "Accuracy Score :  0.5166666666666667\n",
            "F1 Score :  0.5016869095816464\n"
          ],
          "name": "stdout"
        }
      ]
    },
    {
      "cell_type": "code",
      "metadata": {
        "id": "AD7AiUKO-vyq",
        "outputId": "f8a46ae6-2f7b-4d86-e547-fcd16f47836c",
        "colab": {
          "base_uri": "https://localhost:8080/",
          "height": 145
        }
      },
      "source": [
        "ClassificationAlgorithmSparse(SVC,kernel='rbf')"
      ],
      "execution_count": null,
      "outputs": [
        {
          "output_type": "stream",
          "text": [
            "Confusion Matrix : \n",
            " [[24 13 16]\n",
            " [16 22 27]\n",
            " [11  4 47]] \n",
            "\n",
            "Accuracy Score :  0.5166666666666667\n",
            "F1 Score :  0.5016869095816464\n"
          ],
          "name": "stdout"
        }
      ]
    },
    {
      "cell_type": "code",
      "metadata": {
        "id": "I_UcFewReBK5",
        "outputId": "0812b15d-60c5-4374-aac5-ee51c1e94fa8",
        "colab": {
          "base_uri": "https://localhost:8080/",
          "height": 145
        }
      },
      "source": [
        "from sklearn.svm import SVC\n",
        "ClassificationAlgorithm(SVC,kernel='linear')"
      ],
      "execution_count": null,
      "outputs": [
        {
          "output_type": "stream",
          "text": [
            "Confusion Matrix : \n",
            " [[27 14 12]\n",
            " [18 28 19]\n",
            " [10  8 44]] \n",
            "\n",
            "Accuracy Score :  0.55\n",
            "F1 Score :  0.5443166190627314\n"
          ],
          "name": "stdout"
        }
      ]
    },
    {
      "cell_type": "code",
      "metadata": {
        "id": "TGCksQxq-1E-",
        "outputId": "a3f924b4-0298-41eb-eb67-980d61e9420e",
        "colab": {
          "base_uri": "https://localhost:8080/",
          "height": 145
        }
      },
      "source": [
        "ClassificationAlgorithmSparse(SVC,kernel='linear')"
      ],
      "execution_count": null,
      "outputs": [
        {
          "output_type": "stream",
          "text": [
            "Confusion Matrix : \n",
            " [[27 14 12]\n",
            " [18 28 19]\n",
            " [10  8 44]] \n",
            "\n",
            "Accuracy Score :  0.55\n",
            "F1 Score :  0.5443166190627314\n"
          ],
          "name": "stdout"
        }
      ]
    },
    {
      "cell_type": "code",
      "metadata": {
        "id": "JFzRbNLeeL7-",
        "outputId": "e9d6affb-07ac-4230-b084-516f1d0a64c6",
        "colab": {
          "base_uri": "https://localhost:8080/",
          "height": 145
        }
      },
      "source": [
        "from sklearn.svm import SVC\n",
        "ClassificationAlgorithm(SVC,kernel='sigmoid')"
      ],
      "execution_count": null,
      "outputs": [
        {
          "output_type": "stream",
          "text": [
            "Confusion Matrix : \n",
            " [[27 14 12]\n",
            " [18 28 19]\n",
            " [11  7 44]] \n",
            "\n",
            "Accuracy Score :  0.55\n",
            "F1 Score :  0.5445084600755369\n"
          ],
          "name": "stdout"
        }
      ]
    },
    {
      "cell_type": "code",
      "metadata": {
        "id": "i6OJhk3T-5Bz",
        "outputId": "ba4c3a98-bdbe-422b-8730-2efecc1d5f6f",
        "colab": {
          "base_uri": "https://localhost:8080/",
          "height": 145
        }
      },
      "source": [
        "ClassificationAlgorithmSparse(SVC,kernel='sigmoid')"
      ],
      "execution_count": null,
      "outputs": [
        {
          "output_type": "stream",
          "text": [
            "Confusion Matrix : \n",
            " [[27 14 12]\n",
            " [18 28 19]\n",
            " [11  7 44]] \n",
            "\n",
            "Accuracy Score :  0.55\n",
            "F1 Score :  0.5445084600755369\n"
          ],
          "name": "stdout"
        }
      ]
    },
    {
      "cell_type": "code",
      "metadata": {
        "id": "EujF_1w_eoLA",
        "outputId": "8bf10d35-2362-4fc6-a180-b404ac2e5469",
        "colab": {
          "base_uri": "https://localhost:8080/",
          "height": 145
        }
      },
      "source": [
        "from sklearn.gaussian_process import GaussianProcessClassifier\n",
        "from sklearn.gaussian_process.kernels import RBF\n",
        "kernel = 1.0 * RBF(1.0)\n",
        "ClassificationAlgorithm(GaussianProcessClassifier,kernel=kernel)\n",
        "#Not Possible for Sparse"
      ],
      "execution_count": null,
      "outputs": [
        {
          "output_type": "stream",
          "text": [
            "Confusion Matrix : \n",
            " [[28 12 13]\n",
            " [20 23 22]\n",
            " [13  6 43]] \n",
            "\n",
            "Accuracy Score :  0.5222222222222223\n",
            "F1 Score :  0.5129352731934659\n"
          ],
          "name": "stdout"
        }
      ]
    },
    {
      "cell_type": "code",
      "metadata": {
        "id": "PurVMnMMfByB",
        "outputId": "41f35c67-2c47-47c3-956b-957becfdfa34",
        "colab": {
          "base_uri": "https://localhost:8080/",
          "height": 145
        }
      },
      "source": [
        "from sklearn.neural_network import MLPClassifier\n",
        "ClassificationAlgorithm(MLPClassifier)"
      ],
      "execution_count": null,
      "outputs": [
        {
          "output_type": "stream",
          "text": [
            "Confusion Matrix : \n",
            " [[24 17 12]\n",
            " [19 29 17]\n",
            " [15  9 38]] \n",
            "\n",
            "Accuracy Score :  0.5055555555555555\n",
            "F1 Score :  0.5047928742696185\n"
          ],
          "name": "stdout"
        }
      ]
    },
    {
      "cell_type": "code",
      "metadata": {
        "id": "sl69Hxic_IPo",
        "outputId": "e8e65131-6c17-44ff-b439-b80bdcf2c771",
        "colab": {
          "base_uri": "https://localhost:8080/",
          "height": 145
        }
      },
      "source": [
        "ClassificationAlgorithmSparse(MLPClassifier)"
      ],
      "execution_count": null,
      "outputs": [
        {
          "output_type": "stream",
          "text": [
            "Confusion Matrix : \n",
            " [[26 16 11]\n",
            " [18 29 18]\n",
            " [16  9 37]] \n",
            "\n",
            "Accuracy Score :  0.5111111111111111\n",
            "F1 Score :  0.5106322377771167\n"
          ],
          "name": "stdout"
        }
      ]
    },
    {
      "cell_type": "code",
      "metadata": {
        "id": "KeaPtil2fXTn",
        "outputId": "953bc04e-644b-4446-b6cc-24fb3036ed70",
        "colab": {
          "base_uri": "https://localhost:8080/",
          "height": 145
        }
      },
      "source": [
        "from sklearn.linear_model import RidgeClassifier\n",
        "ClassificationAlgorithm(RidgeClassifier)"
      ],
      "execution_count": null,
      "outputs": [
        {
          "output_type": "stream",
          "text": [
            "Confusion Matrix : \n",
            " [[27 14 12]\n",
            " [18 27 20]\n",
            " [14  9 39]] \n",
            "\n",
            "Accuracy Score :  0.5166666666666667\n",
            "F1 Score :  0.5135345156369184\n"
          ],
          "name": "stdout"
        }
      ]
    },
    {
      "cell_type": "code",
      "metadata": {
        "id": "xejzC_bI_O-t",
        "outputId": "6584b4a0-def7-41a1-aa71-d3dccf48eda5",
        "colab": {
          "base_uri": "https://localhost:8080/",
          "height": 145
        }
      },
      "source": [
        "ClassificationAlgorithmSparse(RidgeClassifier)"
      ],
      "execution_count": null,
      "outputs": [
        {
          "output_type": "stream",
          "text": [
            "Confusion Matrix : \n",
            " [[27 14 12]\n",
            " [18 27 20]\n",
            " [14  9 39]] \n",
            "\n",
            "Accuracy Score :  0.5166666666666667\n",
            "F1 Score :  0.5135345156369184\n"
          ],
          "name": "stdout"
        }
      ]
    },
    {
      "cell_type": "code",
      "metadata": {
        "id": "F8TnvmaOgE01",
        "outputId": "10c94ecc-1107-4798-e300-7861b994521d",
        "colab": {
          "base_uri": "https://localhost:8080/",
          "height": 145
        }
      },
      "source": [
        "from sklearn.ensemble import RandomForestClassifier\n",
        "ClassificationAlgorithm(RandomForestClassifier)"
      ],
      "execution_count": null,
      "outputs": [
        {
          "output_type": "stream",
          "text": [
            "Confusion Matrix : \n",
            " [[27  8 18]\n",
            " [19 19 27]\n",
            " [ 9  7 46]] \n",
            "\n",
            "Accuracy Score :  0.5111111111111111\n",
            "F1 Score :  0.4929474483396052\n"
          ],
          "name": "stdout"
        }
      ]
    },
    {
      "cell_type": "code",
      "metadata": {
        "id": "ikbBJAp8_STu",
        "outputId": "00f3aeb5-b514-44db-f937-f910e44261bd",
        "colab": {
          "base_uri": "https://localhost:8080/",
          "height": 145
        }
      },
      "source": [
        "ClassificationAlgorithmSparse(RandomForestClassifier)"
      ],
      "execution_count": null,
      "outputs": [
        {
          "output_type": "stream",
          "text": [
            "Confusion Matrix : \n",
            " [[29  5 19]\n",
            " [17 18 30]\n",
            " [ 8  5 49]] \n",
            "\n",
            "Accuracy Score :  0.5333333333333333\n",
            "F1 Score :  0.510362568251097\n"
          ],
          "name": "stdout"
        }
      ]
    },
    {
      "cell_type": "code",
      "metadata": {
        "id": "AjU_U_gDgUHb",
        "outputId": "9dd3631f-d38e-413f-94c7-5ea826e8b6bd",
        "colab": {
          "base_uri": "https://localhost:8080/",
          "height": 181
        }
      },
      "source": [
        "from sklearn.discriminant_analysis import QuadraticDiscriminantAnalysis\n",
        "ClassificationAlgorithm(QuadraticDiscriminantAnalysis)\n",
        "#Not Possible for Sparse"
      ],
      "execution_count": null,
      "outputs": [
        {
          "output_type": "stream",
          "text": [
            "/usr/local/lib/python3.6/dist-packages/sklearn/discriminant_analysis.py:715: UserWarning: Variables are collinear\n",
            "  warnings.warn(\"Variables are collinear\")\n"
          ],
          "name": "stderr"
        },
        {
          "output_type": "stream",
          "text": [
            "Confusion Matrix : \n",
            " [[14 12 27]\n",
            " [21 10 34]\n",
            " [14 11 37]] \n",
            "\n",
            "Accuracy Score :  0.3388888888888889\n",
            "F1 Score :  0.3138295873905117\n"
          ],
          "name": "stdout"
        }
      ]
    },
    {
      "cell_type": "code",
      "metadata": {
        "id": "26yu_FGwgnta",
        "outputId": "c03c42d0-54a5-4f13-8919-3226934104aa",
        "colab": {
          "base_uri": "https://localhost:8080/",
          "height": 145
        }
      },
      "source": [
        "from sklearn.ensemble import AdaBoostClassifier\n",
        "ClassificationAlgorithm(AdaBoostClassifier)"
      ],
      "execution_count": null,
      "outputs": [
        {
          "output_type": "stream",
          "text": [
            "Confusion Matrix : \n",
            " [[25 15 13]\n",
            " [20 25 20]\n",
            " [14 12 36]] \n",
            "\n",
            "Accuracy Score :  0.4777777777777778\n",
            "F1 Score :  0.47508237745197035\n"
          ],
          "name": "stdout"
        }
      ]
    },
    {
      "cell_type": "code",
      "metadata": {
        "id": "rjUOu7Av_dZQ",
        "outputId": "a6ace831-0227-4fa2-fae9-914a2902a191",
        "colab": {
          "base_uri": "https://localhost:8080/",
          "height": 145
        }
      },
      "source": [
        "ClassificationAlgorithmSparse(AdaBoostClassifier)"
      ],
      "execution_count": null,
      "outputs": [
        {
          "output_type": "stream",
          "text": [
            "Confusion Matrix : \n",
            " [[25 15 13]\n",
            " [20 25 20]\n",
            " [14 12 36]] \n",
            "\n",
            "Accuracy Score :  0.4777777777777778\n",
            "F1 Score :  0.47508237745197035\n"
          ],
          "name": "stdout"
        }
      ]
    }
  ]
}